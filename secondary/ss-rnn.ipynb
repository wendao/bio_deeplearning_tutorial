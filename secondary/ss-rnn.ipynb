{
 "cells": [
  {
   "cell_type": "code",
   "execution_count": 1,
   "metadata": {},
   "outputs": [],
   "source": [
    "import sys, time, math\n",
    "from collections import Counter"
   ]
  },
  {
   "cell_type": "code",
   "execution_count": 2,
   "metadata": {},
   "outputs": [],
   "source": [
    "lines = open(\"dssp-dataset-1.txt\", 'r').readlines()\n",
    "state = 0\n",
    "Ls = []\n",
    "ct = Counter(\"\")\n",
    "st = Counter(\"\")\n",
    "seqs = []\n",
    "tags = [] \n",
    "for l in lines:\n",
    "    if l[0] == \"#\": continue\n",
    "    if l[0] == \">\":\n",
    "        prot = l.strip()[1:]\n",
    "        state = 1\n",
    "    elif state == 1:\n",
    "        seq = l.strip()\n",
    "        state = 2\n",
    "    elif state == 2:\n",
    "        label = l.strip()\n",
    "        #check sample\n",
    "        Ls.append(len(seq))\n",
    "        ct += Counter(seq)\n",
    "        st += Counter(label)\n",
    "        seqs.append(seq)\n",
    "        tags.append(label)\n",
    "        #print(prot, len(seq), len(label))\n",
    "        state = 0"
   ]
  },
  {
   "cell_type": "code",
   "execution_count": 3,
   "metadata": {},
   "outputs": [
    {
     "data": {
      "text/plain": [
       "(array([ 926.,  982., 1033., 1098., 1030.,  911.,  878.,  811.,  781.,\n",
       "         658.,  625.,  568.,  577.,  557.,  539.,  503.,  484.,  410.,\n",
       "         342.,  330.,  335.,  306.,  258.,  214.,  224.,  206.,  198.,\n",
       "         139.,  145.,  124.,  143.,   89.,   85.,   69.,   63.,   88.,\n",
       "          73.,   57.,   53.,   47.,   49.,   46.,   32.,   42.,   39.,\n",
       "          34.,   35.,   29.,   31.,   16.]),\n",
       " array([ 80. ,  94.3, 108.6, 122.9, 137.2, 151.5, 165.8, 180.1, 194.4,\n",
       "        208.7, 223. , 237.3, 251.6, 265.9, 280.2, 294.5, 308.8, 323.1,\n",
       "        337.4, 351.7, 366. , 380.3, 394.6, 408.9, 423.2, 437.5, 451.8,\n",
       "        466.1, 480.4, 494.7, 509. , 523.3, 537.6, 551.9, 566.2, 580.5,\n",
       "        594.8, 609.1, 623.4, 637.7, 652. , 666.3, 680.6, 694.9, 709.2,\n",
       "        723.5, 737.8, 752.1, 766.4, 780.7, 795. ]),\n",
       " <a list of 50 Patch objects>)"
      ]
     },
     "execution_count": 3,
     "metadata": {},
     "output_type": "execute_result"
    },
    {
     "data": {
      "image/png": "[encoded data removed]",
      "text/plain": [
       "<Figure size 432x288 with 1 Axes>"
      ]
     },
     "metadata": {
      "needs_background": "light"
     },
     "output_type": "display_data"
    }
   ],
   "source": [
    "import matplotlib.pyplot as plt\n",
    "%matplotlib inline\n",
    "plt.hist([L for L in Ls if L<800], bins=50)"
   ]
  },
  {
   "cell_type": "code",
   "execution_count": 4,
   "metadata": {},
   "outputs": [
    {
     "data": {
      "text/plain": [
       "<BarContainer object of 21 artists>"
      ]
     },
     "execution_count": 4,
     "metadata": {},
     "output_type": "execute_result"
    },
    {
     "data": {
      "image/png": "[encoded data removed]",
      "text/plain": [
       "<Figure size 432x288 with 1 Axes>"
      ]
     },
     "metadata": {
      "needs_background": "light"
     },
     "output_type": "display_data"
    }
   ],
   "source": [
    "plt.bar(x=ct.keys(),height=ct.values())"
   ]
  },
  {
   "cell_type": "code",
   "execution_count": 5,
   "metadata": {},
   "outputs": [
    {
     "data": {
      "text/plain": [
       "<BarContainer object of 3 artists>"
      ]
     },
     "execution_count": 5,
     "metadata": {},
     "output_type": "execute_result"
    },
    {
     "data": {
      "image/png": "[encoded data removed]",
      "text/plain": [
       "<Figure size 432x288 with 1 Axes>"
      ]
     },
     "metadata": {
      "needs_background": "light"
     },
     "output_type": "display_data"
    }
   ],
   "source": [
    "plt.bar(x=st.keys(),height=st.values())"
   ]
  },
  {
   "cell_type": "code",
   "execution_count": 6,
   "metadata": {},
   "outputs": [],
   "source": [
    "alphabet = \"-ACDEFGHIKLMNPQRSTVWYX\"\n",
    "i2c = {i:alphabet[i] for i in range(len(alphabet))}\n",
    "c2i = {c:i for i,c in i2c.items()}"
   ]
  },
  {
   "cell_type": "code",
   "execution_count": 7,
   "metadata": {},
   "outputs": [],
   "source": [
    "states = \"-CHE\"\n",
    "i2s = {i:states[i] for i in range(len(states))}\n",
    "s2i = {s:i for i,s in i2s.items()}"
   ]
  },
  {
   "cell_type": "markdown",
   "metadata": {},
   "source": [
    "## 处理变长data \n",
    "数据按长度排序，每个batch内的序列长度相对接近，padding补齐"
   ]
  },
  {
   "cell_type": "code",
   "execution_count": 8,
   "metadata": {},
   "outputs": [],
   "source": [
    "import numpy as np\n",
    "import torch\n",
    "from torch.autograd import Variable\n",
    "from numpy.random import permutation\n",
    "from sklearn.model_selection import train_test_split\n",
    "\n",
    "device = torch.device('cuda' if torch.cuda.is_available() else 'cpu')\n",
    "\n",
    "max_length = 600\n",
    "\n",
    "#emmbeding\n",
    "rawX = []\n",
    "rawY = []\n",
    "for seq in seqs:\n",
    "    rawX.append(torch.Tensor([c2i[c] for j,c in enumerate(seq) if j<max_length]))\n",
    "for tag in tags:\n",
    "    rawY.append(torch.Tensor([s2i[s] for j,s in enumerate(tag) if j<max_length]))\n",
    "    \n",
    "#sorting\n",
    "#idx_sort = np.argsort(Ls) #shuffle\n",
    "idx_sort = permutation(len(Ls))                    \n",
    "rawX = [rawX[i] for i in idx_sort]\n",
    "rawY = [rawY[i] for i in idx_sort]\n",
    "\n",
    "#split\n",
    "rawX, X_test, rawY, y_test = train_test_split(rawX, rawY, test_size=0.2, random_state=42)"
   ]
  },
  {
   "cell_type": "code",
   "execution_count": 9,
   "metadata": {},
   "outputs": [
    {
     "name": "stdout",
     "output_type": "stream",
     "text": [
      "14086 3522\n"
     ]
    }
   ],
   "source": [
    "print(len(rawX), len(X_test))"
   ]
  },
  {
   "cell_type": "code",
   "execution_count": 76,
   "metadata": {},
   "outputs": [],
   "source": [
    "from torch.nn import utils as nn_utils\n",
    "import torch.nn.utils.rnn as rnn_utils\n",
    "from torch.utils import data\n",
    "\n",
    "class Dataset(data.Dataset):\n",
    "    def __init__(self, sequence, target):\n",
    "        self.sequence = sequence\n",
    "        self.target = target\n",
    "        \n",
    "    def __len__(self):\n",
    "        return len(self.sequence)\n",
    "    \n",
    "    def __getitem__(self, item):\n",
    "        return self.sequence[item], self.target[item]\n",
    "    \n",
    "def collate_fn(data):\n",
    "    data.sort(key=lambda x: len(x[0]), reverse=True)\n",
    "    length = [len(x[0]) for x in data]\n",
    "    X = rnn_utils.pad_sequence([x[0] for x in data], batch_first=True, padding_value=0)\n",
    "    y = rnn_utils.pad_sequence([x[1] for x in data], batch_first=True, padding_value=0)\n",
    "    return X, y, length\n",
    "\n",
    "train_data = Dataset(rawX,rawY)\n",
    "train_dataloader = data.DataLoader(train_data, batch_size=500, collate_fn=collate_fn)\n",
    "\n",
    "val_data = Dataset(X_test, y_test)\n",
    "val_dataloader = data.DataLoader(val_data, batch_size=500, collate_fn=collate_fn)"
   ]
  },
  {
   "cell_type": "code",
   "execution_count": 77,
   "metadata": {},
   "outputs": [],
   "source": [
    "def one_hot(x, n_class, dtype=torch.float32): \n",
    "    # X shape: (batch), output shape: (batch, n_class)\n",
    "    x = x.long()\n",
    "    res = torch.zeros(x.shape[0], n_class, dtype=dtype, device=x.device)\n",
    "    res.scatter_(1, x.view(-1, 1), 1)\n",
    "    return res\n",
    "\n",
    "def to_onehot(X, n_class):  \n",
    "    # X shape: (batch, seq_len), output: seq_len elements of (batch, n_class)\n",
    "    return [one_hot(X[:, i], n_class) for i in range(X.shape[1])]\n",
    "\n",
    "def grad_clipping(params, theta, device):\n",
    "    norm = torch.tensor([0.0], device=device)\n",
    "    for param in params:\n",
    "        norm += (param.grad.data ** 2).sum()\n",
    "    norm = norm.sqrt().item()\n",
    "    if norm > theta:\n",
    "        for param in params:\n",
    "            param.grad.data *= (theta / norm)"
   ]
  },
  {
   "cell_type": "code",
   "execution_count": 120,
   "metadata": {},
   "outputs": [],
   "source": [
    "#model\n",
    "from torch import nn, optim\n",
    "vocab_size = 22\n",
    "num_hiddens = 64\n",
    "state_num = 4\n",
    "bidiret = True\n",
    "\n",
    "rnn_layer = nn.LSTM(input_size=vocab_size, hidden_size=num_hiddens, bidirectional=bidiret)\n",
    "#rnn_layer = nn.RNN(input_size=vocab_size, hidden_size=num_hiddens, bidirectional=bidiret)\n",
    "\n",
    "class RNNModel(nn.Module):\n",
    "    def __init__(self, rnn_layer, vocab_size, state_num):\n",
    "        super(RNNModel, self).__init__()\n",
    "        self.rnn = rnn_layer\n",
    "        self.hidden_size = rnn_layer.hidden_size * (2 if rnn_layer.bidirectional else 1) \n",
    "        self.vocab_size = vocab_size\n",
    "        self.state_num = state_num\n",
    "        self.dense = nn.Linear(self.hidden_size, state_num)\n",
    "        self.state = None\n",
    "\n",
    "    def forward(self, inputs, state): # inputs: (batch, seq_len)\n",
    "        # 获取one-hot向量表示\n",
    "        X = to_onehot(inputs, self.vocab_size) # X是个list\n",
    "        X = torch.stack(X)\n",
    "        Y, self.state = self.rnn(X, state)\n",
    "        # 全连接层会首先将Y的形状变成(num_steps * batch_size, num_hiddens)，它的输出\n",
    "        # 形状为(num_steps * batch_size, vocab_size)\n",
    "        output = self.dense(Y.view(-1, Y.shape[-1]))\n",
    "        #output = self.dense(Y)\n",
    "        return output, self.state"
   ]
  },
  {
   "cell_type": "code",
   "execution_count": 121,
   "metadata": {},
   "outputs": [],
   "source": [
    "model = RNNModel(rnn_layer, vocab_size, state_num)"
   ]
  },
  {
   "cell_type": "code",
   "execution_count": null,
   "metadata": {},
   "outputs": [
    {
     "name": "stdout",
     "output_type": "stream",
     "text": [
      "epoch 10, perplexity 1.408723, valp 1.409461, time 5.30 sec\n"
     ]
    }
   ],
   "source": [
    "max_epochs = 500\n",
    "lr = 0.004\n",
    "clipping_theta = 0.002\n",
    "\n",
    "loss_fn = nn.CrossEntropyLoss()\n",
    "optimizer = optim.Adam(model.parameters(), lr=lr)\n",
    "model.to(device)\n",
    "\n",
    "lstP = []\n",
    "valP = []\n",
    "\n",
    "for epoch in range(max_epochs):\n",
    "    l_sum, n, start = 0.0, 0, time.time()\n",
    "    lv_sum, nv = 0.0, 0\n",
    "    \n",
    "    #trainning\n",
    "    for b_X, b_y, length in train_dataloader:\n",
    "        state = None # do not pass to the next batch\n",
    "        b_X, b_y = b_X.to(device), b_y.to(device)\n",
    "        \n",
    "        output, state = model(b_X, state)\n",
    "        \n",
    "        b_y = torch.transpose(b_y, 0, 1).contiguous().view(-1)\n",
    "\n",
    "        loss = loss_fn(output, b_y.long())\n",
    "        \n",
    "        optimizer.zero_grad()\n",
    "        loss.backward()\n",
    "        grad_clipping(model.parameters(), clipping_theta, device)\n",
    "        optimizer.step()\n",
    "        l_sum += loss.item() * b_y.shape[0]\n",
    "        n += b_y.shape[0]\n",
    "        \n",
    "    #validation\n",
    "    for b_X, b_y, length in val_dataloader:\n",
    "        state = None # do not pass to the next batch\n",
    "        b_X, b_y = b_X.to(device), b_y.to(device)\n",
    "        output, state = model(b_X, state)\n",
    "        b_y = torch.transpose(b_y, 0, 1).contiguous().view(-1)\n",
    "        loss = loss_fn(output, b_y.long())\n",
    "        lv_sum += loss.item() * b_y.shape[0]\n",
    "        nv += b_y.shape[0]\n",
    "    \n",
    "    #report\n",
    "    try:\n",
    "        perplexity = math.exp(l_sum / n)\n",
    "        lstP.append(perplexity)\n",
    "    except OverflowError:\n",
    "        perplexity = float('inf')\n",
    "    \n",
    "    try:\n",
    "        vp = math.exp(lv_sum/nv)\n",
    "        valP.append(vp)\n",
    "    except OverflowError:\n",
    "        vp = float('inf')\n",
    "        \n",
    "    if (epoch+1) % 10 == 0:\n",
    "        print('epoch %d, perplexity %f, valp %f, time %.2f sec' % (\n",
    "                epoch + 1, perplexity, vp, time.time() - start))"
   ]
  },
  {
   "cell_type": "code",
   "execution_count": null,
   "metadata": {
    "scrolled": true
   },
   "outputs": [],
   "source": [
    "import matplotlib.pyplot as plt\n",
    "%matplotlib inline\n",
    "plt.plot(lstP)\n",
    "plt.plot(valP)\n",
    "plt.ylim([1.3,1.6])"
   ]
  },
  {
   "cell_type": "markdown",
   "metadata": {},
   "source": [
    "## shuffle, lr=0.002, clip=0.001, bidi=False, batch=500\n",
    "baseline num_hiddens = 16, train=1.456, val=1.462\n",
    "\n",
    "baseline num_hiddens = 32, train=1.445, val=1.452\n",
    "\n",
    "baseline num_hiddens = **64**, train=1.440, val=1.448--"
   ]
  },
  {
   "cell_type": "markdown",
   "metadata": {},
   "source": [
    "## shuffle, lr=0.004, clip=0.002, bidi=True, batch=500\n",
    "baseline num_hiddens = 1, train=1.534, val=1.542\n",
    "\n",
    "baseline num_hiddens = 2, train=1.452, val=1.457\n",
    "\n",
    "baseline num_hiddens = 16, train=1.357, val=1.361\n",
    "\n",
    "baseline num_hiddens = **32**, train=1.351, val=1.355\n",
    "\n",
    "baseline num_hiddens = 64, train=1.334, val=1.354\n"
   ]
  },
  {
   "cell_type": "markdown",
   "metadata": {},
   "source": [
    "## shuffle, lr=0.002, clip=0.001, LSTM, bi=F, batch=500\n",
    "\n",
    "baseline num_hiddens = **32**, train=1.428, val=1.442\n",
    "\n",
    "baseline num_hiddens = 64, train=1.423, val=1.446"
   ]
  },
  {
   "cell_type": "markdown",
   "metadata": {},
   "source": [
    "## shuffle, lr=0.004, clip=0.004, LSTM, bi=T, batch=500\n",
    "baseline num_hiddens = 16, train=1.336, val=1.344\n",
    "\n",
    "baseline num_hiddens = 24, train=1.328, val=1.342\n",
    "\n",
    "baseline num_hiddens = 32, train=1.323, val=1.340\n",
    "\n",
    "baseline num_hiddens = 48, train=1.325, val=1.339"
   ]
  },
  {
   "cell_type": "code",
   "execution_count": null,
   "metadata": {},
   "outputs": [],
   "source": []
  }
 ],
 "metadata": {
  "kernelspec": {
   "display_name": "torch10",
   "language": "python",
   "name": "torch10"
  },
  "language_info": {
   "codemirror_mode": {
    "name": "ipython",
    "version": 3
   },
   "file_extension": ".py",
   "mimetype": "text/x-python",
   "name": "python",
   "nbconvert_exporter": "python",
   "pygments_lexer": "ipython3",
   "version": "3.7.1"
  }
 },
 "nbformat": 4,
 "nbformat_minor": 2
}
